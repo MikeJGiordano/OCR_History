{
 "cells": [
  {
   "cell_type": "markdown",
   "id": "8d96ca7c",
   "metadata": {},
   "source": [
    "# First, import the packages and the programs from the .py file"
   ]
  },
  {
   "cell_type": "code",
   "execution_count": null,
   "id": "af15c6d5",
   "metadata": {},
   "outputs": [],
   "source": [
    "import io\n",
    "import os\n",
    "import cv2\n",
    "import boto3\n",
    "import numpy as np\n",
    "import pandas as pd\n",
    "import matplotlib.pyplot as plt\n",
    "from google.cloud import vision\n",
    "import json\n",
    "from PIL import Image, ImageDraw\n",
    "from textractor import Textractor\n",
    "from textractor.visualizers.entitylist import EntityList\n",
    "from textractor.data.constants import TextractFeatures, Direction, DirectionalFinderType\n",
    "import Process_Programs as pp\n"
   ]
  },
  {
   "cell_type": "markdown",
   "id": "ef7098cf",
   "metadata": {},
   "source": [
    "Define the folders you will be working in"
   ]
  },
  {
   "cell_type": "code",
   "execution_count": null,
   "id": "c02996d0",
   "metadata": {},
   "outputs": [],
   "source": [
    "input_folder = \"images/\"\n",
    "\n",
    "output_folder = \"output/\""
   ]
  },
  {
   "cell_type": "markdown",
   "id": "e4334c36",
   "metadata": {},
   "source": [
    "# Single image processing"
   ]
  },
  {
   "cell_type": "code",
   "execution_count": null,
   "id": "2ba78acc",
   "metadata": {
    "scrolled": false
   },
   "outputs": [],
   "source": [
    "filename = \"1888_Page_161.png\"\n",
    "image_path = os.path.join(input_folder, filename)\n",
    "full_image = cv2.imread(image_path)\n",
    "\n",
    "\n",
    "#Put modifications to default settings ABOVE here\n",
    "#Suppose you want to change the side margins to be 8% of the page. \n",
    "#Then type: pp.full['left_margin_percent'] = 8\n",
    "mod_image = pp.draw_margins_splits(full_image, **pp.full);\n",
    "\n",
    "\n",
    "#If you accept the parameters, save the single image in the output folder\n",
    "output_path = os.path.join(output_folder, 'processed_' + filename)\n",
    "\n",
    "try:\n",
    "    cv2.imwrite(output_path, mod_image)\n",
    "except:\n",
    "    pass"
   ]
  },
  {
   "cell_type": "markdown",
   "id": "449c673a",
   "metadata": {},
   "source": [
    "# Split image processing"
   ]
  },
  {
   "cell_type": "code",
   "execution_count": null,
   "id": "5ca5e2d4",
   "metadata": {},
   "outputs": [],
   "source": [
    "split_filename = \"126.png\"\n",
    "image_path = os.path.join(input_folder, split_filename)\n",
    "full_image = cv2.imread(image_path)\n",
    "\n",
    "\n",
    "#Put modifications to default settings ABOVE here\n",
    "#Suppose you want to change the side margins to be 8% of the page. \n",
    "#Then type: pp.full['left_margin_percent'] = 8\n",
    "left_image, right_image = pp.draw_margins_splits(full_image, **pp.vsplit);\n",
    "\n",
    "\n",
    "#If you accept the parameters, save the split images in the output folder\n",
    "L_output_path = os.path.join(output_folder, 'processed_L_' + split_filename)\n",
    "R_output_path = os.path.join(output_folder, 'processed_R_' + split_filename)\n",
    "\n",
    "try:\n",
    "    cv2.imwrite(L_output_path, left_image)\n",
    "    cv2.imwrite(R_output_path, right_image)\n",
    "except:\n",
    "    pass"
   ]
  },
  {
   "cell_type": "markdown",
   "id": "42bdc2f2",
   "metadata": {},
   "source": [
    "# Send an example image through Textract and/or Cloud Vision"
   ]
  },
  {
   "cell_type": "markdown",
   "id": "3d8cb3f4",
   "metadata": {},
   "source": [
    "Initialize Textractor client, modify region if required"
   ]
  },
  {
   "cell_type": "code",
   "execution_count": null,
   "id": "594a17c0",
   "metadata": {},
   "outputs": [],
   "source": [
    "extractor = Textractor(profile_name=\"default\")"
   ]
  },
  {
   "cell_type": "markdown",
   "id": "2c6aa52b",
   "metadata": {},
   "source": [
    "The single US Government image with a single table"
   ]
  },
  {
   "cell_type": "code",
   "execution_count": null,
   "id": "b4f66986",
   "metadata": {},
   "outputs": [],
   "source": [
    "# Load the document image with Pillow. This is necessary for Textract to run.\n",
    "image = Image.open(output_path)\n",
    "\n",
    "# Analyze the document and specify you want to extract tables\n",
    "document = extractor.analyze_document(\n",
    "    file_source=image,\n",
    "    features=[TextractFeatures.TABLES],\n",
    "    save_image=True\n",
    ")\n",
    "\n",
    "#Show the summary statistics of the detected objects\n",
    "\n",
    "document"
   ]
  },
  {
   "cell_type": "code",
   "execution_count": null,
   "id": "d4f24665",
   "metadata": {
    "scrolled": false
   },
   "outputs": [],
   "source": [
    "#Create a variable for the detected words\n",
    "words_entity_list = document.words\n",
    "#Create a variable for the detected tables\n",
    "table_list = document.tables\n",
    "\n",
    "#Load the document image with cv2. This is necessary to draw the bounding boxes\n",
    "sing_image = cv2.imread(output_path)\n",
    "#Draw the bounding boxes in Textract\n",
    "pp.textract_boxes(sing_image, words_entity_list, table_list, show_image=True)"
   ]
  },
  {
   "cell_type": "markdown",
   "id": "b4f80263",
   "metadata": {},
   "source": [
    "Initialize Cloud Vision"
   ]
  },
  {
   "cell_type": "code",
   "execution_count": null,
   "id": "1447b4b8",
   "metadata": {},
   "outputs": [],
   "source": [
    "#Authenticate Google Cloud\n",
    "\n",
    "os.environ['GOOGLE_APPLICATION_CREDENTIALS'] = 'ServiceAccountToken.json'\n",
    "client = vision.ImageAnnotatorClient()"
   ]
  },
  {
   "cell_type": "markdown",
   "id": "afeee4cf",
   "metadata": {},
   "source": [
    "Run the same image through Cloud Vision"
   ]
  },
  {
   "cell_type": "code",
   "execution_count": null,
   "id": "bf94de3a",
   "metadata": {},
   "outputs": [],
   "source": [
    "#Define where you want to output the json file\n",
    "json_output = os.path.join(output_folder, \"1888_Page_161.json\")\n",
    "\n",
    "#Run Google Cloud Vision on the single image\n",
    "\n",
    "pp.gcloud_boxes(sing_image, json_output, show_image=True);"
   ]
  },
  {
   "cell_type": "markdown",
   "id": "48a80664",
   "metadata": {},
   "source": [
    "# For another example, use one of the split images from above"
   ]
  },
  {
   "cell_type": "code",
   "execution_count": null,
   "id": "93d049b0",
   "metadata": {
    "scrolled": false
   },
   "outputs": [],
   "source": [
    "# Load the document image with Pillow. This is necessary for Textract to run.\n",
    "image = Image.open(L_output_path)\n",
    "\n",
    "# Analyze the document and specify you want to extract tables\n",
    "document = extractor.analyze_document(\n",
    "    file_source=image,\n",
    "    features=[TextractFeatures.TABLES],\n",
    "    save_image=True\n",
    ")\n",
    "\n",
    "#Show the summary statistics of the detected objects\n",
    "\n",
    "document"
   ]
  },
  {
   "cell_type": "code",
   "execution_count": null,
   "id": "4f3ffd37",
   "metadata": {
    "scrolled": false
   },
   "outputs": [],
   "source": [
    "#Create a variable for the detected words\n",
    "words_entity_list = document.words\n",
    "#Create a variable for the detected tables\n",
    "table_list = document.tables\n",
    "\n",
    "#Load the document image with cv2. This is necessary to draw the bounding boxes\n",
    "L_image = cv2.imread(L_output_path)\n",
    "\n",
    "pp.textract_boxes(L_image, words_entity_list, table_list, show_image=True)"
   ]
  },
  {
   "cell_type": "markdown",
   "id": "48bce196",
   "metadata": {},
   "source": [
    "Run the same image through Cloud Vision"
   ]
  },
  {
   "cell_type": "code",
   "execution_count": null,
   "id": "ba767548",
   "metadata": {},
   "outputs": [],
   "source": [
    "#Define where you want to output the json file\n",
    "json_output = os.path.join(output_folder, \"L_126.json\")\n",
    "\n",
    "#Run Google Cloud Vision on the single image\n",
    "\n",
    "pp.gcloud_boxes(L_image, json_output, show_image=True);"
   ]
  },
  {
   "cell_type": "markdown",
   "id": "78915a0c",
   "metadata": {},
   "source": [
    "# There are other features you can exploit as well. See below."
   ]
  },
  {
   "cell_type": "markdown",
   "id": "d38bfe7c",
   "metadata": {},
   "source": [
    "Saving the output of your first detected table to an excel file."
   ]
  },
  {
   "cell_type": "code",
   "execution_count": null,
   "id": "bed733a2",
   "metadata": {},
   "outputs": [],
   "source": [
    "#document.tables[0].to_excel(\"output.xlsx\")"
   ]
  },
  {
   "cell_type": "markdown",
   "id": "fdf51e82",
   "metadata": {},
   "source": [
    "Bypassing the textractor package, obtaining the bounding boxes and raw .json output"
   ]
  },
  {
   "cell_type": "code",
   "execution_count": null,
   "id": "bb144e59",
   "metadata": {},
   "outputs": [],
   "source": [
    "#json_output = 'Textractoutput.json'\n",
    "\n",
    "\n",
    "#pp.Textract_process_image(output_path, json_output)"
   ]
  }
 ],
 "metadata": {
  "kernelspec": {
   "display_name": "venv",
   "language": "python",
   "name": "venv"
  },
  "language_info": {
   "codemirror_mode": {
    "name": "ipython",
    "version": 3
   },
   "file_extension": ".py",
   "mimetype": "text/x-python",
   "name": "python",
   "nbconvert_exporter": "python",
   "pygments_lexer": "ipython3",
   "version": "3.11.4"
  }
 },
 "nbformat": 4,
 "nbformat_minor": 5
}
