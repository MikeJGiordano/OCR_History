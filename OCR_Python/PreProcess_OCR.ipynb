{
 "cells": [
  {
   "cell_type": "markdown",
   "id": "8d96ca7c",
   "metadata": {},
   "source": [
    "# Introduction\n",
    "\n",
    "In this notebook, we use Amazon Textract and Google Vision to provide a quick way of extracting text/tables from an image of a page.\n",
    "\n",
    "Intended use: The intended use of this notebook is to quickly prototype. You should expect to modify the code in this notebook to suit your usecase.\n",
    "\n",
    "Preparation: At a minimum, set a working folder, and make sure to add your API keys for both Textract and Google Vision. To do so, please follow the steps outlined here: https://github.com/MikeJGiordano/OCR_History/blob/main/ReadMe.md\n",
    "\n",
    "This notebook contains four parts:\n",
    "\n",
    "    1. Unmodified image OCR. This is intended to quickly detect text from a single image.\n",
    "        a. There is then an option to run one or both OCR tools on a whole folder.\n",
    "        \n",
    "    2. Image preprocessing. This routine helps you to quickly preprocess a single image (adjust contrast, split image, etc). \n",
    "        a. If you are satisfied with the preprocessing routine, it will give you the option to preprocess a whole folder.\n",
    "        \n",
    "    3. Image preprocessing with text extraction. This runs the image modification from part 2 into the text detection from part 1.\n",
    "    \n",
    "    4. Image preprocessing with table extraction from Textract. This uses the image modification from part 2 to extract a table using Textract."
   ]
  },
  {
   "cell_type": "markdown",
   "id": "c17f3fe1",
   "metadata": {},
   "source": [
    "# Program Setup"
   ]
  },
  {
   "cell_type": "markdown",
   "id": "1c2655be",
   "metadata": {},
   "source": [
    "## There are 5 steps, marked A-E."
   ]
  },
  {
   "cell_type": "markdown",
   "id": "4c497df2",
   "metadata": {},
   "source": [
    "### A: Import packages"
   ]
  },
  {
   "cell_type": "code",
   "execution_count": null,
   "id": "af15c6d5",
   "metadata": {},
   "outputs": [],
   "source": [
    "import io\n",
    "import json\n",
    "import os\n",
    "\n",
    "# if you don't have these packages use any package manager to install\n",
    "# you can install all packages at once using the provided requirements.txt file\n",
    "import cv2\n",
    "import boto3\n",
    "from google.cloud import vision\n",
    "\n",
    "import matplotlib.pyplot as plt\n",
    "import numpy as np\n",
    "import pandas as pd\n",
    "import tqdm as tq\n",
    "\n",
    "from PIL import Image, ImageDraw\n",
    "from textractor import Textractor\n",
    "from textractor.visualizers.entitylist import EntityList\n",
    "from textractor.data.constants import TextractFeatures, Direction, DirectionalFinderType\n",
    "\n",
    "# note: the following py file, you'll have to download\n",
    "import preprocess as pp"
   ]
  },
  {
   "cell_type": "markdown",
   "id": "ef7098cf",
   "metadata": {},
   "source": [
    "### B: Please set your working directories here"
   ]
  },
  {
   "cell_type": "code",
   "execution_count": null,
   "id": "c02996d0",
   "metadata": {},
   "outputs": [],
   "source": [
    "# please set the path to the folder containing your images here\n",
    "input_folder = \"images/\"\n",
    "# please set the path to a desired output folder here\n",
    "output_folder = \"output/\""
   ]
  },
  {
   "cell_type": "markdown",
   "id": "1c56c857",
   "metadata": {},
   "source": [
    "### C: Please set your main input file here"
   ]
  },
  {
   "cell_type": "code",
   "execution_count": null,
   "id": "7fa6b5db",
   "metadata": {},
   "outputs": [],
   "source": [
    "# set the filename to your image here\n",
    "filename = \"NYT.png\""
   ]
  },
  {
   "cell_type": "markdown",
   "id": "e7a66c0d",
   "metadata": {},
   "source": [
    "### D: Please authenticate Google Cloud\n",
    "\n",
    "For help with Google Cloud, see https://github.com/MikeJGiordano/OCR_History/blob/main/Setup_Google_Cloud.md"
   ]
  },
  {
   "cell_type": "code",
   "execution_count": null,
   "id": "9adfe73d",
   "metadata": {},
   "outputs": [],
   "source": [
    "#Authenticate Google Cloud here:\n",
    "\n",
    "os.environ['GOOGLE_APPLICATION_CREDENTIALS'] = 'ServiceAccountToken.json'\n",
    "client = vision.ImageAnnotatorClient()"
   ]
  },
  {
   "cell_type": "markdown",
   "id": "a658deca",
   "metadata": {},
   "source": [
    "### E: Please authenticate Amazon Textract\n",
    "\n",
    "For help with Amazon Textract, see https://github.com/MikeJGiordano/OCR_History/blob/main/Setup_AWS_Root.md"
   ]
  },
  {
   "cell_type": "code",
   "execution_count": null,
   "id": "a6044585",
   "metadata": {},
   "outputs": [],
   "source": [
    "#Authenticate AWS Textract in the console/terminal"
   ]
  },
  {
   "cell_type": "markdown",
   "id": "e4334c36",
   "metadata": {},
   "source": [
    "# Part 1: Basic text extraction"
   ]
  },
  {
   "cell_type": "code",
   "execution_count": null,
   "id": "56bb5f5a",
   "metadata": {
    "scrolled": false
   },
   "outputs": [],
   "source": [
    "# plot the image, save .json outputs\n",
    "pp.process_content(filename, \n",
    "                   input_folder,\n",
    "                   output_folder,\n",
    "                   show_image=True,\n",
    "                   use_google_vision=True, \n",
    "                   use_textract=False, \n",
    "                   verbose=True)"
   ]
  },
  {
   "cell_type": "markdown",
   "id": "5d1fbd4d",
   "metadata": {},
   "source": [
    "### You can use the next cell to get text and JSON files for the entire input folder through Google Vision, Textract, or both."
   ]
  },
  {
   "cell_type": "code",
   "execution_count": null,
   "id": "4ec56256",
   "metadata": {},
   "outputs": [],
   "source": [
    "# Batch process all images in the input folder, save text and JSON outputs to the output folder\n",
    "\n",
    "pp.batch_ocr(input_folder, \n",
    "                 output_folder, \n",
    "                 use_google_vision=False, \n",
    "                 use_textract=False)"
   ]
  },
  {
   "cell_type": "markdown",
   "id": "cultural-glossary",
   "metadata": {},
   "source": [
    "# Part 2: Preprocess images\n",
    "Often, it helps to preprocess an image. Common routines are:\n",
    "    \n",
    "    1. Adjusting contrast or brightness\n",
    "    2. Converting to grayscale\n",
    "    3. Cropping\n",
    "    4. Erasing margins\n",
    "    5. Splitting images\n",
    "    \n",
    "We now provide two examples:\n",
    "    \n",
    "    1. Applying points 1-4 \n",
    "    2. Preprocessing and splitting the image"
   ]
  },
  {
   "cell_type": "markdown",
   "id": "86b9a192",
   "metadata": {},
   "source": [
    "### Example 1: Full image"
   ]
  },
  {
   "cell_type": "code",
   "execution_count": null,
   "id": "running-latvia",
   "metadata": {},
   "outputs": [],
   "source": [
    "# set the filename to your image here\n",
    "filename = \"1888_Page_161.png\""
   ]
  },
  {
   "cell_type": "code",
   "execution_count": null,
   "id": "2976260b",
   "metadata": {},
   "outputs": [],
   "source": [
    "#The next cell will apply the default preprocess settings to your image.\n",
    "#If you are unsatisfied with those settings, it will provide instructions on how to make changes.\n",
    "\n"
   ]
  },
  {
   "cell_type": "code",
   "execution_count": null,
   "id": "2ba78acc",
   "metadata": {
    "scrolled": false
   },
   "outputs": [],
   "source": [
    "#Preprocess a single image.\n",
    "pp.preprocess_image(filename,\n",
    "                       input_folder,\n",
    "                       output_folder,\n",
    "                       **pp.default);"
   ]
  },
  {
   "cell_type": "markdown",
   "id": "dc5c663b",
   "metadata": {},
   "source": [
    "### Example 2: Split image"
   ]
  },
  {
   "cell_type": "code",
   "execution_count": null,
   "id": "a5f8a707",
   "metadata": {},
   "outputs": [],
   "source": [
    "# set the filename to your split image here\n",
    "split_filename = \"126.png\""
   ]
  },
  {
   "cell_type": "code",
   "execution_count": null,
   "id": "60ed09c1",
   "metadata": {},
   "outputs": [],
   "source": [
    "#The next cell will apply the default preprocess settings to your image.\n",
    "#If you are unsatisfied with those settings, it will provide instructions on how to make changes.\n",
    "\n",
    "pp.default['left_margin_percent'] = 30\n",
    "pp.default['top_margin_percent'] = 5"
   ]
  },
  {
   "cell_type": "code",
   "execution_count": null,
   "id": "26302043",
   "metadata": {
    "scrolled": false
   },
   "outputs": [],
   "source": [
    "#Preprocess a split image.\n",
    "pp.preprocess_image(split_filename,\n",
    "                       input_folder,\n",
    "                       output_folder,\n",
    "                       **pp.default);"
   ]
  },
  {
   "cell_type": "markdown",
   "id": "52ea7b20",
   "metadata": {},
   "source": [
    "# Part 3: Preprocessed Text Extraction"
   ]
  },
  {
   "cell_type": "markdown",
   "id": "4ba520df",
   "metadata": {},
   "source": [
    "### Example 1: Full image"
   ]
  },
  {
   "cell_type": "code",
   "execution_count": null,
   "id": "1450d027",
   "metadata": {},
   "outputs": [],
   "source": [
    "# using the above processing, the folder of modified images is located at:\n",
    "\n",
    "modified_images = \"output/modified_images/\"\n",
    "\n",
    "# Modification alters the name of the file to be:\n",
    "\n",
    "modified_filename = 'modified_' + filename"
   ]
  },
  {
   "cell_type": "code",
   "execution_count": null,
   "id": "73f58288",
   "metadata": {
    "scrolled": false
   },
   "outputs": [],
   "source": [
    "# plot the image, save .json outputs\n",
    "pp.process_content(modified_filename, \n",
    "                   modified_images,\n",
    "                   output_folder,\n",
    "                   show_image = True,\n",
    "                   use_google_vision=False, \n",
    "                   use_textract=True, \n",
    "                   verbose=True)"
   ]
  },
  {
   "cell_type": "markdown",
   "id": "3e2a4778",
   "metadata": {},
   "source": [
    "### Example 2: Split image"
   ]
  },
  {
   "cell_type": "code",
   "execution_count": null,
   "id": "d76c0e9b",
   "metadata": {},
   "outputs": [],
   "source": [
    "# Modification splits the file into two and renames them:\n",
    "\n",
    "modified_1_split = 'modified_1_' + split_filename\n",
    "modified_2_split = 'modified_2_' + split_filename"
   ]
  },
  {
   "cell_type": "code",
   "execution_count": null,
   "id": "300ac7a6",
   "metadata": {
    "scrolled": false
   },
   "outputs": [],
   "source": [
    "# plot the images, save .json and .txt outputs\n",
    "pp.process_content(modified_1_split, \n",
    "                   modified_images,\n",
    "                   output_folder,\n",
    "                   show_image = True,\n",
    "                   use_google_vision=True, \n",
    "                   use_textract=False, \n",
    "                   verbose=True)\n",
    "\n",
    "pp.process_content(modified_2_split, \n",
    "                   modified_images,\n",
    "                   output_folder,\n",
    "                   show_image = False,\n",
    "                   use_google_vision=False, \n",
    "                   use_textract=False, \n",
    "                   verbose=False)"
   ]
  },
  {
   "cell_type": "markdown",
   "id": "c1ddbd16",
   "metadata": {},
   "source": [
    "### You can use the next cell to get text and JSON files for the entire folder of modified images through Google Vision, Textract, or both."
   ]
  },
  {
   "cell_type": "code",
   "execution_count": null,
   "id": "fcfff978",
   "metadata": {},
   "outputs": [],
   "source": [
    "# Batch process all images in the modified folder, save .json outputs to the output folder\n",
    "\n",
    "pp.batch_ocr(modified_images, \n",
    "                 output_folder, \n",
    "                 use_google_vision=False, \n",
    "                 use_textract=False)"
   ]
  },
  {
   "cell_type": "markdown",
   "id": "42bdc2f2",
   "metadata": {},
   "source": [
    "# Part 4: Textract Table Extraction"
   ]
  },
  {
   "cell_type": "markdown",
   "id": "08e55ea7",
   "metadata": {},
   "source": [
    "### Setup"
   ]
  },
  {
   "cell_type": "markdown",
   "id": "3d8cb3f4",
   "metadata": {},
   "source": [
    "Initialize Textractor client, modify region if required"
   ]
  },
  {
   "cell_type": "code",
   "execution_count": null,
   "id": "594a17c0",
   "metadata": {},
   "outputs": [],
   "source": [
    "extractor = Textractor(profile_name=\"default\")"
   ]
  },
  {
   "cell_type": "markdown",
   "id": "2c6aa52b",
   "metadata": {},
   "source": [
    "Please specify the image you want to extract a table from."
   ]
  },
  {
   "cell_type": "code",
   "execution_count": null,
   "id": "b8150da3",
   "metadata": {},
   "outputs": [],
   "source": [
    "# using the above processing, the folder of modified images is located at:\n",
    "\n",
    "modified_images = \"output/modified_images/\"\n",
    "\n",
    "# Modification alters the name of the file to be:\n",
    "\n",
    "modified_filename = 'modified_' + filename"
   ]
  },
  {
   "cell_type": "markdown",
   "id": "ce277761",
   "metadata": {},
   "source": [
    "## Extract the tables"
   ]
  },
  {
   "cell_type": "code",
   "execution_count": null,
   "id": "a988328d",
   "metadata": {
    "scrolled": false
   },
   "outputs": [],
   "source": [
    "pp.extract_table(extractor, \n",
    "                       modified_filename,\n",
    "                       modified_images,\n",
    "                       output_folder);"
   ]
  }
 ],
 "metadata": {
  "kernelspec": {
   "display_name": "Python 3 (ipykernel)",
   "language": "python",
   "name": "python3"
  },
  "language_info": {
   "codemirror_mode": {
    "name": "ipython",
    "version": 3
   },
   "file_extension": ".py",
   "mimetype": "text/x-python",
   "name": "python",
   "nbconvert_exporter": "python",
   "pygments_lexer": "ipython3",
   "version": "3.11.4"
  }
 },
 "nbformat": 4,
 "nbformat_minor": 5
}
